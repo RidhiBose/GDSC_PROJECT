{
 "cells": [
  {
   "cell_type": "code",
   "execution_count": 26,
   "id": "ec808355",
   "metadata": {},
   "outputs": [],
   "source": [
    "import copy, math\n",
    "import numpy as np\n",
    "from sklearn.linear_model import LinearRegression\n",
    "import matplotlib.pyplot as plt\n",
    "np.set_printoptions(precision=2)"
   ]
  },
  {
   "cell_type": "code",
   "execution_count": 137,
   "id": "0749c67a",
   "metadata": {},
   "outputs": [],
   "source": [
    "\n",
    "years_of_experience = np.array([2, 5, 8, 3, 6, 10, 4, 7, 1, 9])\n",
    "education_level = np.array([ 12, 14, 12, 13, 14, 14, 14, 13, 13, 14])\n",
    "#position= np.array([ 'Junior Developer', 'Junior Developer', 'Junior Developer', 'Junior Developer',\n",
    "                     #'Junior Developer', 'Senior Developer', 'Senior Developer', 'Senior Developer',\n",
    "                     #'Senior Developer', 'Senior Developer', 'Manager', 'Manager', 'Manager', 'Manager', 'Manager',])\n",
    "job_performance_rating = np.array([ 4.5, 3.3, 4.9, 2.5, 4.3, 4.8, 4.2, 3.4, 2.4, 4.9])\n",
    "age = np.array([ 27, 32, 42, 22, 35, 47, 29, 38, 24, 45])\n",
    "num_proj = np.array([ 3, 4, 6, 2, 5, 7, 4, 6, 2, 7])\n",
    "\n",
    "salary=np.array([65000, 75000, 95000, 50000, 85000, 105000, 65000, 85000, 55000, 100000])\n",
    "#x_features=['YearsExperience','EducationLevel','Position','JobPerformanceRating']\n"
   ]
  },
  {
   "cell_type": "code",
   "execution_count": 138,
   "id": "0f5fad9d",
   "metadata": {},
   "outputs": [
    {
     "name": "stdout",
     "output_type": "stream",
     "text": [
      "X Shape: (10, 5), X Type:<class 'numpy.ndarray'>)\n",
      "[[ 2.  12.   4.5 27.   3. ]\n",
      " [ 5.  14.   3.3 32.   4. ]\n",
      " [ 8.  12.   4.9 42.   6. ]\n",
      " [ 3.  13.   2.5 22.   2. ]\n",
      " [ 6.  14.   4.3 35.   5. ]\n",
      " [10.  14.   4.8 47.   7. ]\n",
      " [ 4.  14.   4.2 29.   4. ]\n",
      " [ 7.  13.   3.4 38.   6. ]\n",
      " [ 1.  13.   2.4 24.   2. ]\n",
      " [ 9.  14.   4.9 45.   7. ]]\n",
      "y Shape: (10,), y Type:<class 'numpy.ndarray'>)\n",
      "[ 65000  75000  95000  50000  85000 105000  65000  85000  55000 100000]\n",
      "Weight for Education Level: [-396.57  458.96 1384.67 2294.17 -621.12]\n",
      "Bias (Intercept): -6724.817276453672\n"
     ]
    }
   ],
   "source": [
    "x = np.column_stack((years_of_experience, education_level, job_performance_rating, age, num_proj))\n",
    "print(f\"X Shape: {x.shape}, X Type:{type(x)})\")\n",
    "print(x)\n",
    "print(f\"y Shape: {salary.shape}, y Type:{type(salary)})\")\n",
    "print(salary)\n",
    "model = LinearRegression()\n",
    "model.fit(x, salary)\n",
    "weights = model.coef_\n",
    "bias = model.intercept_\n",
    "print(\"Weight for Education Level:\", weights)\n",
    "print(\"Bias (Intercept):\", bias)"
   ]
  },
  {
   "cell_type": "code",
   "execution_count": 139,
   "id": "5834ba6b",
   "metadata": {},
   "outputs": [],
   "source": [
    "def compute_cost(X, y, w, b):\n",
    "    m = X.shape[0]\n",
    "    cost = 0.0\n",
    "    for i in range(m):\n",
    "        f_wb_i = np.dot(X[i], w) + b\n",
    "        cost = cost + (f_wb_i - y[i])**2\n",
    "    cost = cost / (2 * m)\n",
    "    return cost"
   ]
  },
  {
   "cell_type": "code",
   "execution_count": 140,
   "id": "1e61993a",
   "metadata": {
    "scrolled": false
   },
   "outputs": [
    {
     "name": "stdout",
     "output_type": "stream",
     "text": [
      "Cost at optimal w : 1937929.1735414874\n"
     ]
    }
   ],
   "source": [
    "cost = compute_cost(x, salary, weights, bias)\n",
    "print(f'Cost at optimal w : {cost}')"
   ]
  },
  {
   "cell_type": "code",
   "execution_count": 141,
   "id": "c6e45b83",
   "metadata": {},
   "outputs": [],
   "source": [
    "def compute_gradient(X, y, w, b):\n",
    "    m,n = X.shape\n",
    "    dj_dw=np.zeros((n,))\n",
    "    dj_db = 0.\n",
    "    \n",
    "    for i in range(m):\n",
    "        err = (np.dot(X[i],w) + b) - y[i]\n",
    "        for j in range(n):\n",
    "            dj_dw[j] = dj_dw[j] + err * X[i,j]\n",
    "        dj_db = dj_db + err\n",
    "    dj_dw = dj_dw / m\n",
    "    dj_db = dj_db / m\n",
    "    \n",
    "    return dj_db, dj_dw"
   ]
  },
  {
   "cell_type": "code",
   "execution_count": 142,
   "id": "e4e794e8",
   "metadata": {},
   "outputs": [
    {
     "name": "stdout",
     "output_type": "stream",
     "text": [
      "dj_db at initial w,b: -3.637978807091713e-12\n",
      "dj_dw at initial w,b: [-2.40e-11 -5.02e-11 -1.44e-11 -1.31e-10 -1.89e-11]\n"
     ]
    }
   ],
   "source": [
    "tmp_dj_db, tmp_dj_dw = compute_gradient(x, salary, weights, bias)\n",
    "print(f'dj_db at initial w,b: {tmp_dj_db}')\n",
    "print(f'dj_dw at initial w,b: {tmp_dj_dw}')"
   ]
  },
  {
   "cell_type": "code",
   "execution_count": 143,
   "id": "eeaebc6f",
   "metadata": {},
   "outputs": [],
   "source": [
    "def gradient_descent(X, y, w_in, b_in, cost_function, gradient_function, alpha, num_iters):\n",
    "    J_history = []\n",
    "    w = copy.deepcopy(w_in)\n",
    "    b = b_in\n",
    "    \n",
    "    for i in range(num_iters):\n",
    "        dj_db,dj_dw = gradient_function(X, y, w, b)\n",
    "        w = w - alpha * dj_dw\n",
    "        b = b - alpha * dj_db\n",
    "        \n",
    "        if i<100000:\n",
    "            J_history.append( cost_function(X, y, w, b))\n",
    "            \n",
    "        if i% math.ceil(num_iters / 10) == 0:\n",
    "            print(f\"Iteration {i:4d}: Cost {J_history[-1]:8.2f}  \")\n",
    "                  \n",
    "    return w, b, J_history"
   ]
  },
  {
   "cell_type": "code",
   "execution_count": 144,
   "id": "9deac0e0",
   "metadata": {},
   "outputs": [
    {
     "name": "stdout",
     "output_type": "stream",
     "text": [
      "Iteration    0: Cost 3120398582.00  \n",
      "Iteration  100: Cost 217010476.60  \n",
      "Iteration  200: Cost 17428541.34  \n",
      "Iteration  300: Cost 3706706.68  \n",
      "Iteration  400: Cost 2760961.56  \n",
      "Iteration  500: Cost 2693483.03  \n",
      "Iteration  600: Cost 2686412.17  \n",
      "Iteration  700: Cost 2683528.53  \n",
      "Iteration  800: Cost 2680966.85  \n",
      "Iteration  900: Cost 2678460.78  \n",
      "b,w found by gradient descent: 52.05,[ 324.25  691.64  219.39 1905.19  265.95] \n",
      "prediction: 62225.63, target value: 65000\n",
      "prediction: 74110.32, target value: 75000\n",
      "prediction: 93634.64, target value: 95000\n",
      "prediction: 53010.82, target value: 50000\n",
      "prediction: 80635.49, target value: 85000\n",
      "prediction: 105436.41, target value: 105000\n",
      "prediction: 68267.94, target value: 65000\n",
      "prediction: 86052.18, target value: 85000\n",
      "prediction: 56150.78, target value: 55000\n",
      "prediction: 101323.71, target value: 100000\n"
     ]
    }
   ],
   "source": [
    "initial_w = np.zeros_like(weights)\n",
    "initial_b = 0.\n",
    "iterations = 1000\n",
    "alpha = 9e-6\n",
    "w_final, b_final, J_hist = gradient_descent(x, salary, initial_w, initial_b, compute_cost, compute_gradient, alpha, iterations)\n",
    "print(f\"b,w found by gradient descent: {b_final:0.2f},{w_final} \")\n",
    "m,_ = x.shape\n",
    "for i in range(m):\n",
    "    print(f\"prediction: {np.dot(x[i], w_final) + b_final:0.2f}, target value: {salary[i]}\")"
   ]
  },
  {
   "cell_type": "code",
   "execution_count": null,
   "id": "e27700d6",
   "metadata": {
    "scrolled": true
   },
   "outputs": [],
   "source": []
  },
  {
   "cell_type": "code",
   "execution_count": null,
   "id": "f3cc8e36",
   "metadata": {},
   "outputs": [],
   "source": []
  }
 ],
 "metadata": {
  "kernelspec": {
   "display_name": "Python 3 (ipykernel)",
   "language": "python",
   "name": "python3"
  },
  "language_info": {
   "codemirror_mode": {
    "name": "ipython",
    "version": 3
   },
   "file_extension": ".py",
   "mimetype": "text/x-python",
   "name": "python",
   "nbconvert_exporter": "python",
   "pygments_lexer": "ipython3",
   "version": "3.11.4"
  }
 },
 "nbformat": 4,
 "nbformat_minor": 5
}
